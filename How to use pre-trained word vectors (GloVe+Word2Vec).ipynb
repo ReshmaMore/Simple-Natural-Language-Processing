{
 "cells": [
  {
   "cell_type": "markdown",
   "metadata": {},
   "source": [
    "## *Tools & libraries*"
   ]
  },
  {
   "cell_type": "code",
   "execution_count": 1,
   "metadata": {},
   "outputs": [
    {
     "name": "stderr",
     "output_type": "stream",
     "text": [
      "C:\\Users\\Admin\\Anaconda3\\lib\\site-packages\\h5py\\__init__.py:36: FutureWarning: Conversion of the second argument of issubdtype from `float` to `np.floating` is deprecated. In future, it will be treated as `np.float64 == np.dtype(float).type`.\n",
      "  from ._conv import register_converters as _register_converters\n",
      "Using TensorFlow backend.\n"
     ]
    }
   ],
   "source": [
    "import numpy as np\n",
    "import pandas as pd\n",
    "import gensim\n",
    "import os\n",
    "from tensorflow.python.keras.preprocessing.text import Tokenizer\n",
    "from tensorflow.python.keras.preprocessing.sequence import pad_sequences\n",
    "from keras.models import Sequential\n",
    "from keras.layers import Dense, Embedding, GRU, LSTM\n",
    "from keras.layers.embeddings import Embedding\n",
    "from keras.initializers import Constant\n",
    "from keras.callbacks import ModelCheckpoint\n",
    "from keras.models import load_model"
   ]
  },
  {
   "cell_type": "markdown",
   "metadata": {},
   "source": [
    "## *Get the data*"
   ]
  },
  {
   "cell_type": "code",
   "execution_count": 2,
   "metadata": {},
   "outputs": [
    {
     "data": {
      "text/html": [
       "<div>\n",
       "<style scoped>\n",
       "    .dataframe tbody tr th:only-of-type {\n",
       "        vertical-align: middle;\n",
       "    }\n",
       "\n",
       "    .dataframe tbody tr th {\n",
       "        vertical-align: top;\n",
       "    }\n",
       "\n",
       "    .dataframe thead th {\n",
       "        text-align: right;\n",
       "    }\n",
       "</style>\n",
       "<table border=\"1\" class=\"dataframe\">\n",
       "  <thead>\n",
       "    <tr style=\"text-align: right;\">\n",
       "      <th></th>\n",
       "      <th>hmid</th>\n",
       "      <th>wid</th>\n",
       "      <th>reflection_period</th>\n",
       "      <th>original_hm</th>\n",
       "      <th>cleaned_hm</th>\n",
       "      <th>modified</th>\n",
       "      <th>num_sentence</th>\n",
       "      <th>ground_truth_category</th>\n",
       "      <th>predicted_category</th>\n",
       "    </tr>\n",
       "  </thead>\n",
       "  <tbody>\n",
       "    <tr>\n",
       "      <th>0</th>\n",
       "      <td>27673</td>\n",
       "      <td>2053</td>\n",
       "      <td>24h</td>\n",
       "      <td>I went on a successful date with someone I fel...</td>\n",
       "      <td>I went on a successful date with someone I fel...</td>\n",
       "      <td>True</td>\n",
       "      <td>1</td>\n",
       "      <td>NaN</td>\n",
       "      <td>affection</td>\n",
       "    </tr>\n",
       "    <tr>\n",
       "      <th>1</th>\n",
       "      <td>27674</td>\n",
       "      <td>2</td>\n",
       "      <td>24h</td>\n",
       "      <td>I was happy when my son got 90% marks in his e...</td>\n",
       "      <td>I was happy when my son got 90% marks in his e...</td>\n",
       "      <td>True</td>\n",
       "      <td>1</td>\n",
       "      <td>NaN</td>\n",
       "      <td>affection</td>\n",
       "    </tr>\n",
       "    <tr>\n",
       "      <th>2</th>\n",
       "      <td>27675</td>\n",
       "      <td>1936</td>\n",
       "      <td>24h</td>\n",
       "      <td>I went to the gym this morning and did yoga.</td>\n",
       "      <td>I went to the gym this morning and did yoga.</td>\n",
       "      <td>True</td>\n",
       "      <td>1</td>\n",
       "      <td>NaN</td>\n",
       "      <td>exercise</td>\n",
       "    </tr>\n",
       "    <tr>\n",
       "      <th>3</th>\n",
       "      <td>27676</td>\n",
       "      <td>206</td>\n",
       "      <td>24h</td>\n",
       "      <td>We had a serious talk with some friends of our...</td>\n",
       "      <td>We had a serious talk with some friends of our...</td>\n",
       "      <td>True</td>\n",
       "      <td>2</td>\n",
       "      <td>bonding</td>\n",
       "      <td>bonding</td>\n",
       "    </tr>\n",
       "    <tr>\n",
       "      <th>4</th>\n",
       "      <td>27677</td>\n",
       "      <td>6227</td>\n",
       "      <td>24h</td>\n",
       "      <td>I went with grandchildren to butterfly display...</td>\n",
       "      <td>I went with grandchildren to butterfly display...</td>\n",
       "      <td>True</td>\n",
       "      <td>1</td>\n",
       "      <td>NaN</td>\n",
       "      <td>affection</td>\n",
       "    </tr>\n",
       "  </tbody>\n",
       "</table>\n",
       "</div>"
      ],
      "text/plain": [
       "    hmid   wid reflection_period  \\\n",
       "0  27673  2053               24h   \n",
       "1  27674     2               24h   \n",
       "2  27675  1936               24h   \n",
       "3  27676   206               24h   \n",
       "4  27677  6227               24h   \n",
       "\n",
       "                                         original_hm  \\\n",
       "0  I went on a successful date with someone I fel...   \n",
       "1  I was happy when my son got 90% marks in his e...   \n",
       "2       I went to the gym this morning and did yoga.   \n",
       "3  We had a serious talk with some friends of our...   \n",
       "4  I went with grandchildren to butterfly display...   \n",
       "\n",
       "                                          cleaned_hm  modified  num_sentence  \\\n",
       "0  I went on a successful date with someone I fel...      True             1   \n",
       "1  I was happy when my son got 90% marks in his e...      True             1   \n",
       "2       I went to the gym this morning and did yoga.      True             1   \n",
       "3  We had a serious talk with some friends of our...      True             2   \n",
       "4  I went with grandchildren to butterfly display...      True             1   \n",
       "\n",
       "  ground_truth_category predicted_category  \n",
       "0                   NaN          affection  \n",
       "1                   NaN          affection  \n",
       "2                   NaN           exercise  \n",
       "3               bonding            bonding  \n",
       "4                   NaN          affection  "
      ]
     },
     "execution_count": 2,
     "metadata": {},
     "output_type": "execute_result"
    }
   ],
   "source": [
    "data = pd.read_csv(\"cleaned_hm.csv\")\n",
    "data.head()"
   ]
  },
  {
   "cell_type": "markdown",
   "metadata": {},
   "source": [
    "## *Basic data cleaning*"
   ]
  },
  {
   "cell_type": "code",
   "execution_count": 3,
   "metadata": {},
   "outputs": [
    {
     "data": {
      "text/plain": [
       "affection           34168\n",
       "achievement         33993\n",
       "enjoy_the_moment    11144\n",
       "bonding             10727\n",
       "leisure              7458\n",
       "nature               1843\n",
       "exercise             1202\n",
       "Name: predicted_category, dtype: int64"
      ]
     },
     "execution_count": 3,
     "metadata": {},
     "output_type": "execute_result"
    }
   ],
   "source": [
    "data[\"predicted_category\"].value_counts()"
   ]
  },
  {
   "cell_type": "code",
   "execution_count": 4,
   "metadata": {},
   "outputs": [
    {
     "data": {
      "text/plain": [
       "1     83711\n",
       "2      9542\n",
       "3      3847\n",
       "4      1624\n",
       "5       821\n",
       "6       336\n",
       "7       183\n",
       "8       107\n",
       "10       68\n",
       "9        61\n",
       "11       35\n",
       "13       26\n",
       "12       21\n",
       "16       17\n",
       "18       17\n",
       "14       14\n",
       "17       14\n",
       "19       12\n",
       "21       10\n",
       "25        7\n",
       "15        7\n",
       "23        7\n",
       "24        5\n",
       "26        5\n",
       "22        4\n",
       "29        3\n",
       "31        3\n",
       "30        3\n",
       "20        3\n",
       "27        2\n",
       "32        2\n",
       "37        2\n",
       "40        2\n",
       "56        1\n",
       "46        1\n",
       "53        1\n",
       "51        1\n",
       "48        1\n",
       "69        1\n",
       "35        1\n",
       "45        1\n",
       "44        1\n",
       "42        1\n",
       "58        1\n",
       "34        1\n",
       "28        1\n",
       "60        1\n",
       "Name: num_sentence, dtype: int64"
      ]
     },
     "execution_count": 4,
     "metadata": {},
     "output_type": "execute_result"
    }
   ],
   "source": [
    "data[\"num_sentence\"].value_counts()"
   ]
  },
  {
   "cell_type": "code",
   "execution_count": 5,
   "metadata": {},
   "outputs": [
    {
     "data": {
      "text/plain": [
       "affection           34020\n",
       "achievement         33966\n",
       "enjoy_the_moment    11115\n",
       "bonding             10700\n",
       "leisure              7458\n",
       "nature               1839\n",
       "exercise             1202\n",
       "Name: predicted_category, dtype: int64"
      ]
     },
     "execution_count": 5,
     "metadata": {},
     "output_type": "execute_result"
    }
   ],
   "source": [
    "# deleting happy moments with more than 10 sentences\n",
    "mod_data = data.loc[data['num_sentence'] <= 10]\n",
    "mod_data[\"predicted_category\"].value_counts()"
   ]
  },
  {
   "cell_type": "code",
   "execution_count": 6,
   "metadata": {},
   "outputs": [],
   "source": [
    "## categorical to numerical\n",
    "encode = {\n",
    "    \"affection\" : 0,\n",
    "    \"achievement\"  : 1,       \n",
    "    \"bonding\" : 2,    \n",
    "    \"enjoy_the_moment\" : 3,     \n",
    "    \"leisure\"  : 4,    \n",
    "    \"nature\" : 5,    \n",
    "    \"exercise\" : 6\n",
    "}"
   ]
  },
  {
   "cell_type": "code",
   "execution_count": 7,
   "metadata": {},
   "outputs": [
    {
     "name": "stderr",
     "output_type": "stream",
     "text": [
      "C:\\Users\\Admin\\Anaconda3\\lib\\site-packages\\ipykernel_launcher.py:1: SettingWithCopyWarning: \n",
      "A value is trying to be set on a copy of a slice from a DataFrame.\n",
      "Try using .loc[row_indexer,col_indexer] = value instead\n",
      "\n",
      "See the caveats in the documentation: http://pandas.pydata.org/pandas-docs/stable/indexing.html#indexing-view-versus-copy\n",
      "  \"\"\"Entry point for launching an IPython kernel.\n"
     ]
    },
    {
     "data": {
      "text/html": [
       "<div>\n",
       "<style scoped>\n",
       "    .dataframe tbody tr th:only-of-type {\n",
       "        vertical-align: middle;\n",
       "    }\n",
       "\n",
       "    .dataframe tbody tr th {\n",
       "        vertical-align: top;\n",
       "    }\n",
       "\n",
       "    .dataframe thead th {\n",
       "        text-align: right;\n",
       "    }\n",
       "</style>\n",
       "<table border=\"1\" class=\"dataframe\">\n",
       "  <thead>\n",
       "    <tr style=\"text-align: right;\">\n",
       "      <th></th>\n",
       "      <th>hmid</th>\n",
       "      <th>wid</th>\n",
       "      <th>reflection_period</th>\n",
       "      <th>original_hm</th>\n",
       "      <th>cleaned_hm</th>\n",
       "      <th>modified</th>\n",
       "      <th>num_sentence</th>\n",
       "      <th>ground_truth_category</th>\n",
       "      <th>predicted_category</th>\n",
       "    </tr>\n",
       "  </thead>\n",
       "  <tbody>\n",
       "    <tr>\n",
       "      <th>0</th>\n",
       "      <td>27673</td>\n",
       "      <td>2053</td>\n",
       "      <td>24h</td>\n",
       "      <td>I went on a successful date with someone I fel...</td>\n",
       "      <td>I went on a successful date with someone I fel...</td>\n",
       "      <td>True</td>\n",
       "      <td>1</td>\n",
       "      <td>NaN</td>\n",
       "      <td>0</td>\n",
       "    </tr>\n",
       "    <tr>\n",
       "      <th>1</th>\n",
       "      <td>27674</td>\n",
       "      <td>2</td>\n",
       "      <td>24h</td>\n",
       "      <td>I was happy when my son got 90% marks in his e...</td>\n",
       "      <td>I was happy when my son got 90% marks in his e...</td>\n",
       "      <td>True</td>\n",
       "      <td>1</td>\n",
       "      <td>NaN</td>\n",
       "      <td>0</td>\n",
       "    </tr>\n",
       "    <tr>\n",
       "      <th>2</th>\n",
       "      <td>27675</td>\n",
       "      <td>1936</td>\n",
       "      <td>24h</td>\n",
       "      <td>I went to the gym this morning and did yoga.</td>\n",
       "      <td>I went to the gym this morning and did yoga.</td>\n",
       "      <td>True</td>\n",
       "      <td>1</td>\n",
       "      <td>NaN</td>\n",
       "      <td>6</td>\n",
       "    </tr>\n",
       "    <tr>\n",
       "      <th>3</th>\n",
       "      <td>27676</td>\n",
       "      <td>206</td>\n",
       "      <td>24h</td>\n",
       "      <td>We had a serious talk with some friends of our...</td>\n",
       "      <td>We had a serious talk with some friends of our...</td>\n",
       "      <td>True</td>\n",
       "      <td>2</td>\n",
       "      <td>bonding</td>\n",
       "      <td>2</td>\n",
       "    </tr>\n",
       "    <tr>\n",
       "      <th>4</th>\n",
       "      <td>27677</td>\n",
       "      <td>6227</td>\n",
       "      <td>24h</td>\n",
       "      <td>I went with grandchildren to butterfly display...</td>\n",
       "      <td>I went with grandchildren to butterfly display...</td>\n",
       "      <td>True</td>\n",
       "      <td>1</td>\n",
       "      <td>NaN</td>\n",
       "      <td>0</td>\n",
       "    </tr>\n",
       "  </tbody>\n",
       "</table>\n",
       "</div>"
      ],
      "text/plain": [
       "    hmid   wid reflection_period  \\\n",
       "0  27673  2053               24h   \n",
       "1  27674     2               24h   \n",
       "2  27675  1936               24h   \n",
       "3  27676   206               24h   \n",
       "4  27677  6227               24h   \n",
       "\n",
       "                                         original_hm  \\\n",
       "0  I went on a successful date with someone I fel...   \n",
       "1  I was happy when my son got 90% marks in his e...   \n",
       "2       I went to the gym this morning and did yoga.   \n",
       "3  We had a serious talk with some friends of our...   \n",
       "4  I went with grandchildren to butterfly display...   \n",
       "\n",
       "                                          cleaned_hm  modified  num_sentence  \\\n",
       "0  I went on a successful date with someone I fel...      True             1   \n",
       "1  I was happy when my son got 90% marks in his e...      True             1   \n",
       "2       I went to the gym this morning and did yoga.      True             1   \n",
       "3  We had a serious talk with some friends of our...      True             2   \n",
       "4  I went with grandchildren to butterfly display...      True             1   \n",
       "\n",
       "  ground_truth_category  predicted_category  \n",
       "0                   NaN                   0  \n",
       "1                   NaN                   0  \n",
       "2                   NaN                   6  \n",
       "3               bonding                   2  \n",
       "4                   NaN                   0  "
      ]
     },
     "execution_count": 7,
     "metadata": {},
     "output_type": "execute_result"
    }
   ],
   "source": [
    "mod_data[\"predicted_category\"] = mod_data[\"predicted_category\"].apply(lambda x: encode[x])\n",
    "mod_data.head()"
   ]
  },
  {
   "cell_type": "markdown",
   "metadata": {},
   "source": [
    "## *Data cleaning for NLP*"
   ]
  },
  {
   "cell_type": "code",
   "execution_count": 8,
   "metadata": {},
   "outputs": [
    {
     "data": {
      "text/plain": [
       "[['i',\n",
       "  'went',\n",
       "  'on',\n",
       "  'a',\n",
       "  'successful',\n",
       "  'date',\n",
       "  'with',\n",
       "  'someone',\n",
       "  'i',\n",
       "  'felt',\n",
       "  'sympathy',\n",
       "  'and',\n",
       "  'connection',\n",
       "  'with'],\n",
       " ['i',\n",
       "  'was',\n",
       "  'happy',\n",
       "  'when',\n",
       "  'my',\n",
       "  'son',\n",
       "  'got',\n",
       "  'marks',\n",
       "  'in',\n",
       "  'his',\n",
       "  'examination'],\n",
       " ['i', 'went', 'to', 'the', 'gym', 'this', 'morning', 'and', 'did', 'yoga'],\n",
       " ['we',\n",
       "  'had',\n",
       "  'a',\n",
       "  'serious',\n",
       "  'talk',\n",
       "  'with',\n",
       "  'some',\n",
       "  'friends',\n",
       "  'of',\n",
       "  'ours',\n",
       "  'who',\n",
       "  'have',\n",
       "  'been',\n",
       "  'flaky',\n",
       "  'lately',\n",
       "  'they',\n",
       "  'understood',\n",
       "  'and',\n",
       "  'we',\n",
       "  'had',\n",
       "  'a',\n",
       "  'good',\n",
       "  'evening',\n",
       "  'hanging',\n",
       "  'out'],\n",
       " ['i',\n",
       "  'went',\n",
       "  'with',\n",
       "  'grandchildren',\n",
       "  'to',\n",
       "  'butterfly',\n",
       "  'display',\n",
       "  'at',\n",
       "  'crohn',\n",
       "  'conservatory']]"
      ]
     },
     "execution_count": 8,
     "metadata": {},
     "output_type": "execute_result"
    }
   ],
   "source": [
    "import string\n",
    "from nltk.tokenize import word_tokenize\n",
    "from nltk.corpus import stopwords\n",
    "\n",
    "happy_lines = list()\n",
    "lines = mod_data[\"cleaned_hm\"].values.tolist()\n",
    "\n",
    "for line in lines:\n",
    "    # tokenize the text\n",
    "    tokens = word_tokenize(line)\n",
    "    tokens = [w.lower() for w in tokens]\n",
    "    # remove puntuations\n",
    "    table = str.maketrans('', '', string.punctuation)\n",
    "    stripped = [w.translate(table) for w in tokens]\n",
    "    # remove non alphabetic characters\n",
    "    words = [word for word in stripped if word.isalpha()]\n",
    "    happy_lines.append(words)\n",
    "    \n",
    "happy_lines[0:5]"
   ]
  },
  {
   "cell_type": "markdown",
   "metadata": {},
   "source": [
    "## *Train-test split*"
   ]
  },
  {
   "cell_type": "code",
   "execution_count": 9,
   "metadata": {},
   "outputs": [
    {
     "name": "stdout",
     "output_type": "stream",
     "text": [
      "unique tokens - 26183\n",
      "vocab_size - 26184\n"
     ]
    }
   ],
   "source": [
    "validation_split = 0.2\n",
    "max_length = 55\n",
    "\n",
    "tokenizer_obj = Tokenizer()\n",
    "tokenizer_obj.fit_on_texts(happy_lines)\n",
    "sequences = tokenizer_obj.texts_to_sequences(happy_lines)\n",
    "\n",
    "word_index = tokenizer_obj.word_index\n",
    "print(\"unique tokens - \"+str(len(word_index)))\n",
    "vocab_size = len(tokenizer_obj.word_index) + 1\n",
    "print('vocab_size - '+str(vocab_size))\n",
    "\n",
    "lines_pad = pad_sequences(sequences, maxlen=max_length, padding='post')\n",
    "category =  mod_data['predicted_category'].values\n",
    "\n",
    "indices = np.arange(lines_pad.shape[0])\n",
    "np.random.shuffle(indices)\n",
    "lines_pad = lines_pad[indices]\n",
    "category = category[indices]\n",
    "\n",
    "n_values = np.max(category) + 1\n",
    "Y = np.eye(n_values)[category]\n",
    "\n",
    "num_validation_samples = int(validation_split * lines_pad.shape[0])\n",
    "\n",
    "X_train_pad = lines_pad[:-num_validation_samples]\n",
    "y_train = Y[:-num_validation_samples]\n",
    "X_test_pad = lines_pad[-num_validation_samples:]\n",
    "y_test = Y[-num_validation_samples:]"
   ]
  },
  {
   "cell_type": "code",
   "execution_count": 10,
   "metadata": {},
   "outputs": [
    {
     "name": "stdout",
     "output_type": "stream",
     "text": [
      "Shape of X_train_pad: (80240, 55)\n",
      "Shape of y_train: (80240, 7)\n",
      "Shape of X_test_pad: (20060, 55)\n",
      "Shape of y_test: (20060, 7)\n"
     ]
    }
   ],
   "source": [
    "print('Shape of X_train_pad:', X_train_pad.shape)\n",
    "print('Shape of y_train:', y_train.shape)\n",
    "\n",
    "print('Shape of X_test_pad:', X_test_pad.shape)\n",
    "print('Shape of y_test:', y_test.shape)"
   ]
  },
  {
   "cell_type": "markdown",
   "metadata": {},
   "source": [
    "## *GloVe Model*"
   ]
  },
  {
   "cell_type": "code",
   "execution_count": 11,
   "metadata": {},
   "outputs": [],
   "source": [
    "embedding_index = {}\n",
    "embedding_dim = 100\n",
    "glove_dir = \"D:\\Pre-trained Word Vectors\\glove.twitter.27B\"\n",
    "f = open(os.path.join(glove_dir, 'glove.twitter.27B.100d.txt'), encoding = \"utf-8\")\n",
    "for line in f:\n",
    "    values = line.split()\n",
    "    word = values[0]\n",
    "    coeff = np.asarray(values[1:], dtype='float32')\n",
    "    embedding_index[word] = coeff\n",
    "f.close()"
   ]
  },
  {
   "cell_type": "code",
   "execution_count": 12,
   "metadata": {},
   "outputs": [],
   "source": [
    "embedding_matrix = np.zeros((len(word_index) + 1, embedding_dim))\n",
    "for word, i in word_index.items():\n",
    "    embedding_vector = embedding_index.get(word)\n",
    "    if embedding_vector is not None:\n",
    "        embedding_matrix[i] = embedding_vector"
   ]
  },
  {
   "cell_type": "code",
   "execution_count": 13,
   "metadata": {},
   "outputs": [],
   "source": [
    "embedding_layer = Embedding(len(word_index) + 1,\n",
    "                            embedding_dim,\n",
    "                            weights=[embedding_matrix],\n",
    "                            input_length=max_length,\n",
    "                            trainable=False)"
   ]
  },
  {
   "cell_type": "code",
   "execution_count": 14,
   "metadata": {},
   "outputs": [
    {
     "name": "stdout",
     "output_type": "stream",
     "text": [
      "_________________________________________________________________\n",
      "Layer (type)                 Output Shape              Param #   \n",
      "=================================================================\n",
      "embedding_1 (Embedding)      (None, 55, 100)           2618400   \n",
      "_________________________________________________________________\n",
      "lstm_1 (LSTM)                (None, 32)                17024     \n",
      "_________________________________________________________________\n",
      "dense_1 (Dense)              (None, 7)                 231       \n",
      "=================================================================\n",
      "Total params: 2,635,655\n",
      "Trainable params: 17,255\n",
      "Non-trainable params: 2,618,400\n",
      "_________________________________________________________________\n",
      "None\n"
     ]
    }
   ],
   "source": [
    "model_glove = Sequential()\n",
    "model_glove.add(embedding_layer)\n",
    "model_glove.add(LSTM(units=32,  dropout=0.2, recurrent_dropout=0.25))\n",
    "model_glove.add(Dense(7, activation='softmax'))\n",
    "\n",
    "model_glove.compile(loss='categorical_crossentropy', optimizer='adam', metrics=['accuracy'])\n",
    "\n",
    "print(model_glove.summary())"
   ]
  },
  {
   "cell_type": "code",
   "execution_count": 15,
   "metadata": {},
   "outputs": [],
   "source": [
    "checkpoint = ModelCheckpoint('model-{epoch:03d}-{val_acc:03f}.h5', verbose=1, monitor='val_acc',save_best_only=True, mode='auto')"
   ]
  },
  {
   "cell_type": "code",
   "execution_count": 16,
   "metadata": {},
   "outputs": [
    {
     "name": "stdout",
     "output_type": "stream",
     "text": [
      "Train on 80240 samples, validate on 20060 samples\n",
      "Epoch 1/15\n",
      "80240/80240 [==============================] - 100s 1ms/step - loss: 1.1480 - acc: 0.5832 - val_loss: 0.8799 - val_acc: 0.6781\n",
      "\n",
      "Epoch 00001: val_acc improved from -inf to 0.67812, saving model to model-001-0.678116.h5\n",
      "Epoch 2/15\n",
      "80240/80240 [==============================] - 95s 1ms/step - loss: 0.7427 - acc: 0.7415 - val_loss: 0.5370 - val_acc: 0.8180\n",
      "\n",
      "Epoch 00002: val_acc improved from 0.67812 to 0.81800, saving model to model-002-0.817996.h5\n",
      "Epoch 3/15\n",
      "80240/80240 [==============================] - 94s 1ms/step - loss: 0.5447 - acc: 0.8159 - val_loss: 0.4388 - val_acc: 0.8473\n",
      "\n",
      "Epoch 00003: val_acc improved from 0.81800 to 0.84726, saving model to model-003-0.847258.h5\n",
      "Epoch 4/15\n",
      "80240/80240 [==============================] - 95s 1ms/step - loss: 0.4711 - acc: 0.8349 - val_loss: 0.3965 - val_acc: 0.8592\n",
      "\n",
      "Epoch 00004: val_acc improved from 0.84726 to 0.85922, saving model to model-004-0.859222.h5\n",
      "Epoch 5/15\n",
      "80240/80240 [==============================] - 95s 1ms/step - loss: 0.4379 - acc: 0.8437 - val_loss: 0.3743 - val_acc: 0.8659\n",
      "\n",
      "Epoch 00005: val_acc improved from 0.85922 to 0.86585, saving model to model-005-0.865852.h5\n",
      "Epoch 6/15\n",
      "80240/80240 [==============================] - 95s 1ms/step - loss: 0.4172 - acc: 0.8507 - val_loss: 0.3643 - val_acc: 0.8681\n",
      "\n",
      "Epoch 00006: val_acc improved from 0.86585 to 0.86815, saving model to model-006-0.868146.h5\n",
      "Epoch 7/15\n",
      "80240/80240 [==============================] - 96s 1ms/step - loss: 0.4025 - acc: 0.8551 - val_loss: 0.3505 - val_acc: 0.8715\n",
      "\n",
      "Epoch 00007: val_acc improved from 0.86815 to 0.87149, saving model to model-007-0.871486.h5\n",
      "Epoch 8/15\n",
      "80240/80240 [==============================] - 94s 1ms/step - loss: 0.3952 - acc: 0.8572 - val_loss: 0.3468 - val_acc: 0.8745\n",
      "\n",
      "Epoch 00008: val_acc improved from 0.87149 to 0.87448, saving model to model-008-0.874477.h5\n",
      "Epoch 9/15\n",
      "80240/80240 [==============================] - 95s 1ms/step - loss: 0.3851 - acc: 0.8608 - val_loss: 0.3379 - val_acc: 0.8761\n",
      "\n",
      "Epoch 00009: val_acc improved from 0.87448 to 0.87612, saving model to model-009-0.876122.h5\n",
      "Epoch 10/15\n",
      "80240/80240 [==============================] - 94s 1ms/step - loss: 0.3765 - acc: 0.8641 - val_loss: 0.3384 - val_acc: 0.8763\n",
      "\n",
      "Epoch 00010: val_acc improved from 0.87612 to 0.87632, saving model to model-010-0.876321.h5\n",
      "Epoch 11/15\n",
      "80240/80240 [==============================] - 96s 1ms/step - loss: 0.3720 - acc: 0.8650 - val_loss: 0.3363 - val_acc: 0.8777\n",
      "\n",
      "Epoch 00011: val_acc improved from 0.87632 to 0.87767, saving model to model-011-0.877667.h5\n",
      "Epoch 12/15\n",
      "80240/80240 [==============================] - 95s 1ms/step - loss: 0.3639 - acc: 0.8671 - val_loss: 0.3280 - val_acc: 0.8790\n",
      "\n",
      "Epoch 00012: val_acc improved from 0.87767 to 0.87901, saving model to model-012-0.879013.h5\n",
      "Epoch 13/15\n",
      "80240/80240 [==============================] - 95s 1ms/step - loss: 0.3645 - acc: 0.8666 - val_loss: 0.3261 - val_acc: 0.8791\n",
      "\n",
      "Epoch 00013: val_acc improved from 0.87901 to 0.87911, saving model to model-013-0.879113.h5\n",
      "Epoch 14/15\n",
      "80240/80240 [==============================] - 96s 1ms/step - loss: 0.3583 - acc: 0.8699 - val_loss: 0.3214 - val_acc: 0.8814\n",
      "\n",
      "Epoch 00014: val_acc improved from 0.87911 to 0.88141, saving model to model-014-0.881406.h5\n",
      "Epoch 15/15\n",
      "80240/80240 [==============================] - 99s 1ms/step - loss: 0.3527 - acc: 0.8698 - val_loss: 0.3215 - val_acc: 0.8798\n",
      "\n",
      "Epoch 00015: val_acc did not improve from 0.88141\n"
     ]
    }
   ],
   "source": [
    "history_glove = model_glove.fit(X_train_pad, y_train, batch_size=32, epochs=15, validation_data=(X_test_pad, y_test), callbacks=[checkpoint], verbose=1)"
   ]
  },
  {
   "cell_type": "code",
   "execution_count": 25,
   "metadata": {},
   "outputs": [
    {
     "data": {
      "image/png": "[encoded data removed]",
      "text/plain": [
       "<Figure size 432x288 with 1 Axes>"
      ]
     },
     "metadata": {},
     "output_type": "display_data"
    },
    {
     "data": {
      "image/png": "[encoded data removed]",
      "text/plain": [
       "<Figure size 432x288 with 1 Axes>"
      ]
     },
     "metadata": {},
     "output_type": "display_data"
    }
   ],
   "source": [
    "# Plot results\n",
    "import matplotlib.pyplot as plt\n",
    "\n",
    "acc = history_glove.history['acc']\n",
    "val_acc = history_glove.history['val_acc']\n",
    "loss = history_glove.history['loss']\n",
    "val_loss = history_glove.history['val_loss']\n",
    "\n",
    "epochs = range(1, len(acc)+1)\n",
    "\n",
    "plt.plot(epochs, acc, 'g', label='Training accuracy')\n",
    "plt.plot(epochs, val_acc, 'r', label='Validation accuracy')\n",
    "plt.title('Training and validation accuracy')\n",
    "plt.legend()\n",
    "\n",
    "plt.figure()\n",
    "\n",
    "plt.plot(epochs, loss, 'g', label='Training loss')\n",
    "plt.plot(epochs, val_loss, 'r', label='Validation loss')\n",
    "plt.title('Training and validation loss')\n",
    "plt.legend()\n",
    "\n",
    "plt.show()"
   ]
  },
  {
   "cell_type": "markdown",
   "metadata": {},
   "source": [
    "## *Word2Vec model*"
   ]
  },
  {
   "cell_type": "code",
   "execution_count": 18,
   "metadata": {},
   "outputs": [],
   "source": [
    "embedding_dim = 300\n",
    "word2vec_dir = \"D:\\Pre-trained Word Vectors\\GoogleNews-vectors-negative300\"\n",
    "from gensim.models import KeyedVectors\n",
    "word2vec_model = KeyedVectors.load_word2vec_format(os.path.join(word2vec_dir, 'GoogleNews-vectors-negative300.bin'), binary=True)"
   ]
  },
  {
   "cell_type": "code",
   "execution_count": 19,
   "metadata": {},
   "outputs": [],
   "source": [
    "embedding_matrix = np.zeros((len(word_index) + 1, embedding_dim))\n",
    "for word, i in word_index.items():\n",
    "    if word in word2vec_model: \n",
    "        embedding_vector = word2vec_model[word]\n",
    "        embedding_matrix[i] = embedding_vector"
   ]
  },
  {
   "cell_type": "code",
   "execution_count": 20,
   "metadata": {},
   "outputs": [],
   "source": [
    "embedding_layer = Embedding(len(word_index) + 1,\n",
    "                            embedding_dim,\n",
    "                            weights=[embedding_matrix],\n",
    "                            input_length=max_length,\n",
    "                            trainable=False)"
   ]
  },
  {
   "cell_type": "code",
   "execution_count": 21,
   "metadata": {},
   "outputs": [
    {
     "name": "stdout",
     "output_type": "stream",
     "text": [
      "_________________________________________________________________\n",
      "Layer (type)                 Output Shape              Param #   \n",
      "=================================================================\n",
      "embedding_2 (Embedding)      (None, 55, 300)           7855200   \n",
      "_________________________________________________________________\n",
      "lstm_2 (LSTM)                (None, 32)                42624     \n",
      "_________________________________________________________________\n",
      "dense_2 (Dense)              (None, 7)                 231       \n",
      "=================================================================\n",
      "Total params: 7,898,055\n",
      "Trainable params: 42,855\n",
      "Non-trainable params: 7,855,200\n",
      "_________________________________________________________________\n",
      "None\n"
     ]
    }
   ],
   "source": [
    "model_word2vec = Sequential()\n",
    "model_word2vec.add(embedding_layer)\n",
    "model_word2vec.add(LSTM(units=32,  dropout=0.2, recurrent_dropout=0.25))\n",
    "model_word2vec.add(Dense(7, activation='softmax'))\n",
    "\n",
    "model_word2vec.compile(loss='categorical_crossentropy', optimizer='adam', metrics=['accuracy'])\n",
    "\n",
    "print(model_word2vec.summary())"
   ]
  },
  {
   "cell_type": "code",
   "execution_count": 22,
   "metadata": {},
   "outputs": [],
   "source": [
    "checkpoint = ModelCheckpoint('model-{epoch:03d}-{val_acc:03f}.h5', verbose=1, monitor='val_acc',save_best_only=True, mode='auto')"
   ]
  },
  {
   "cell_type": "code",
   "execution_count": 23,
   "metadata": {},
   "outputs": [
    {
     "name": "stdout",
     "output_type": "stream",
     "text": [
      "Train on 80240 samples, validate on 20060 samples\n",
      "Epoch 1/10\n",
      "80240/80240 [==============================] - 146s 2ms/step - loss: 1.1902 - acc: 0.5525 - val_loss: 0.7147 - val_acc: 0.7523\n",
      "\n",
      "Epoch 00001: val_acc improved from -inf to 0.75234, saving model to model-001-0.752343.h5\n",
      "Epoch 2/10\n",
      "80240/80240 [==============================] - 139s 2ms/step - loss: 0.5833 - acc: 0.8040 - val_loss: 0.4410 - val_acc: 0.8484\n",
      "\n",
      "Epoch 00002: val_acc improved from 0.75234 to 0.84840, saving model to model-002-0.848405.h5\n",
      "Epoch 3/10\n",
      "80240/80240 [==============================] - 137s 2ms/step - loss: 0.4387 - acc: 0.8462 - val_loss: 0.3666 - val_acc: 0.8666\n",
      "\n",
      "Epoch 00003: val_acc improved from 0.84840 to 0.86655, saving model to model-003-0.866550.h5\n",
      "Epoch 4/10\n",
      "80240/80240 [==============================] - 145s 2ms/step - loss: 0.3917 - acc: 0.8580 - val_loss: 0.3439 - val_acc: 0.8754\n",
      "\n",
      "Epoch 00004: val_acc improved from 0.86655 to 0.87537, saving model to model-004-0.875374.h5\n",
      "Epoch 5/10\n",
      "80240/80240 [==============================] - 147s 2ms/step - loss: 0.3648 - acc: 0.8673 - val_loss: 0.3278 - val_acc: 0.8819\n",
      "\n",
      "Epoch 00005: val_acc improved from 0.87537 to 0.88185, saving model to model-005-0.881854.h5\n",
      "Epoch 6/10\n",
      "80240/80240 [==============================] - 148s 2ms/step - loss: 0.3461 - acc: 0.8724 - val_loss: 0.3216 - val_acc: 0.8817\n",
      "\n",
      "Epoch 00006: val_acc did not improve from 0.88185\n",
      "Epoch 7/10\n",
      "80240/80240 [==============================] - 148s 2ms/step - loss: 0.3369 - acc: 0.8754 - val_loss: 0.3123 - val_acc: 0.8840\n",
      "\n",
      "Epoch 00007: val_acc improved from 0.88185 to 0.88400, saving model to model-007-0.883998.h5\n",
      "Epoch 8/10\n",
      "80240/80240 [==============================] - 145s 2ms/step - loss: 0.3254 - acc: 0.8803 - val_loss: 0.3087 - val_acc: 0.8860\n",
      "\n",
      "Epoch 00008: val_acc improved from 0.88400 to 0.88604, saving model to model-008-0.886042.h5\n",
      "Epoch 9/10\n",
      "80240/80240 [==============================] - 152s 2ms/step - loss: 0.3148 - acc: 0.8828 - val_loss: 0.3070 - val_acc: 0.8852\n",
      "\n",
      "Epoch 00009: val_acc did not improve from 0.88604\n",
      "Epoch 10/10\n",
      "80240/80240 [==============================] - 146s 2ms/step - loss: 0.3079 - acc: 0.8856 - val_loss: 0.2956 - val_acc: 0.8899\n",
      "\n",
      "Epoch 00010: val_acc improved from 0.88604 to 0.88993, saving model to model-010-0.889930.h5\n"
     ]
    }
   ],
   "source": [
    "history_word2vec = model_word2vec.fit(X_train_pad, y_train, batch_size=32, epochs=10, validation_data=(X_test_pad, y_test), callbacks=[checkpoint], verbose=1)"
   ]
  },
  {
   "cell_type": "code",
   "execution_count": 24,
   "metadata": {},
   "outputs": [
    {
     "data": {
      "image/png": "[encoded data removed]",
      "text/plain": [
       "<Figure size 432x288 with 1 Axes>"
      ]
     },
     "metadata": {},
     "output_type": "display_data"
    },
    {
     "data": {
      "image/png": "[encoded data removed]",
      "text/plain": [
       "<Figure size 432x288 with 1 Axes>"
      ]
     },
     "metadata": {},
     "output_type": "display_data"
    }
   ],
   "source": [
    "# Plot results\n",
    "import matplotlib.pyplot as plt\n",
    "\n",
    "acc = history_word2vec.history['acc']\n",
    "val_acc = history_word2vec.history['val_acc']\n",
    "loss = history_word2vec.history['loss']\n",
    "val_loss = history_word2vec.history['val_loss']\n",
    "\n",
    "epochs = range(1, len(acc)+1)\n",
    "\n",
    "plt.plot(epochs, acc, 'g', label='Training accuracy')\n",
    "plt.plot(epochs, val_acc, 'r', label='Validation accuracy')\n",
    "plt.title('Training and validation accuracy')\n",
    "plt.legend()\n",
    "\n",
    "plt.figure()\n",
    "\n",
    "plt.plot(epochs, loss, 'g', label='Training loss')\n",
    "plt.plot(epochs, val_loss, 'r', label='Validation loss')\n",
    "plt.title('Training and validation loss')\n",
    "plt.legend()\n",
    "\n",
    "plt.show()"
   ]
  }
 ],
 "metadata": {
  "kernelspec": {
   "display_name": "Python 3",
   "language": "python",
   "name": "python3"
  },
  "language_info": {
   "codemirror_mode": {
    "name": "ipython",
    "version": 3
   },
   "file_extension": ".py",
   "mimetype": "text/x-python",
   "name": "python",
   "nbconvert_exporter": "python",
   "pygments_lexer": "ipython3",
   "version": "3.6.5"
  }
 },
 "nbformat": 4,
 "nbformat_minor": 2
}
