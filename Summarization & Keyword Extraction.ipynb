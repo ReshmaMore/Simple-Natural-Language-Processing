{
 "cells": [
  {
   "cell_type": "code",
   "execution_count": 1,
   "metadata": {},
   "outputs": [],
   "source": [
    "from gensim.summarization.summarizer import summarize\n",
    "from gensim.summarization import keywords"
   ]
  },
  {
   "cell_type": "markdown",
   "metadata": {},
   "source": [
    "# *Text 1*"
   ]
  },
  {
   "cell_type": "markdown",
   "metadata": {},
   "source": [
    "<hr>\n",
    "<h2 style=\"color:#222; font-family: Georgia, Times, 'Times New Roman', serif;\"> Hello, people from the future! Welcome to Normalized Nerd! I love to create educational videos on Machine Learning and Creative Coding. Machine learning and Data Science have changed our world dramatically and will continue to do so. But how they exactly work?...Find out with me. If you like my videos please subscribe to my channel.</h2>"
   ]
  },
  {
   "cell_type": "code",
   "execution_count": 2,
   "metadata": {},
   "outputs": [],
   "source": [
    "text1 = \"Hello, people from the future! Welcome to Normalized Nerd! I love to create educational videos on Machine Learning and Creative Coding. Machine learning and Data Science have changed our world dramatically and will continue to do so. But how they exactly work?...Find out with me. If you like my videos please subscribe to my channel.\""
   ]
  },
  {
   "cell_type": "code",
   "execution_count": 3,
   "metadata": {},
   "outputs": [
    {
     "name": "stdout",
     "output_type": "stream",
     "text": [
      "I love to create educational videos on Machine Learning and Creative Coding.\n",
      "Machine learning and Data Science have changed our world dramatically and will continue to do so.\n",
      "If you like my videos please subscribe to my channel.\n"
     ]
    }
   ],
   "source": [
    "print(summarize(text1, ratio=0.5))"
   ]
  },
  {
   "cell_type": "code",
   "execution_count": 4,
   "metadata": {},
   "outputs": [
    {
     "name": "stdout",
     "output_type": "stream",
     "text": [
      "['I love to create educational videos on Machine Learning and Creative Coding.', 'Machine learning and Data Science have changed our world dramatically and will continue to do so.', 'If you like my videos please subscribe to my channel.']\n"
     ]
    }
   ],
   "source": [
    "print(summarize(text1, split=True, ratio=0.5))"
   ]
  },
  {
   "cell_type": "code",
   "execution_count": 5,
   "metadata": {},
   "outputs": [
    {
     "name": "stdout",
     "output_type": "stream",
     "text": [
      "educational\n",
      "machine\n",
      "coding\n",
      "future\n",
      "exactly\n"
     ]
    }
   ],
   "source": [
    "print(keywords(text1, words=5))"
   ]
  },
  {
   "cell_type": "markdown",
   "metadata": {},
   "source": [
    "# *Text 2*"
   ]
  },
  {
   "cell_type": "markdown",
   "metadata": {},
   "source": [
    "<hr>\n",
    "<h2 style=\"color:#222; font-family: Georgia, Times, 'Times New Roman', serif;\">It was the end of November, and Holmes and I sat, upon a raw and foggy night, on either side of a blazing fire in our sitting-room in Baker Street. Since the tragic upshot of our visit to Devonshire he had been engaged in two affairs of the utmost importance, in the first of which he had exposed the atrocious conduct of Colonel Upwood in connection with the famous card scandal of the Nonpareil Club, while in the second he had defended the unfortunate Mme.\n",
    "<br>\n",
    "<br>\n",
    "    ...\n",
    "<br>\n",
    "<br>\n",
    "I have a box for Les Huguenots. Have you heard the De Reszkes? Might I trouble you then to be ready in half an hour, and we can stop at Marcini’s for a little dinner on the way?”</h2>"
   ]
  },
  {
   "cell_type": "code",
   "execution_count": 6,
   "metadata": {},
   "outputs": [],
   "source": [
    "with open('hound.txt', 'r', encoding=\"utf8\") as file:\n",
    "    text2 = file.read().replace('\\n', '')"
   ]
  },
  {
   "cell_type": "code",
   "execution_count": 7,
   "metadata": {},
   "outputs": [
    {
     "name": "stdout",
     "output_type": "stream",
     "text": [
      "They had called upon us that very afternoon, so that it was natural that the subject should come up for discussion.“The whole course of events,” said Holmes, “from the point of view of the man who called himself Stapleton was simple and direct, although to us, who had no means in the beginning of knowing the motives of his actions and could only learn part of the facts, it all appeared exceedingly complex.\n",
      "So far as the case of the hound goes, however, I will give you the course of events as nearly as I can, and you will suggest anything which I may have forgotten.“My inquiries show beyond all question that the family portrait did not lie, and that this fellow was indeed a Baskerville.\n",
      "His first act was to establish himself as near to his ancestral home as he could, and his second was to cultivate a friendship with Sir Charles Baskerville and with the neighbours.“The baronet himself told him about the family hound, and so prepared the way for his own death.\n",
      "His ingenious mind instantly suggested a way by which the baronet could be done to death, and yet it would be hardly possible to bring home the guilt to the real murderer.“Having conceived the idea he proceeded to carry it out with considerable finesse.\n",
      "She would have nothing to do with it, and for a time Stapleton was at a deadlock.“He found a way out of his difficulties through the chance that Sir Charles, who had conceived a friendship for him, made him the minister of his charity in the case of this unfortunate woman, Mrs. Laura Lyons.\n",
      "The hound was called off and hurried away to its lair in the Grimpen Mire, and a mystery was left which puzzled the authorities, alarmed the countryside, and finally brought the case within the scope of our observation.“So much for the death of Sir Charles Baskerville.\n",
      "Mrs. Stapleton knew that he had designs upon the old man, and also of the existence of the hound.\n",
      "In any case he would very soon learn it from his friend Dr. Mortimer, and he was told by the latter all details about the arrival of Henry Baskerville.\n",
      "It reached the baronet, and gave him the first warning of his danger.“It was very essential for Stapleton to get some article of Sir Henry’s attire so that, in case he was driven to use the dog, he might always have the means of setting him upon his track.\n",
      "It is very probable, therefore, that in the absence of his master it was he who cared for the hound, though he may never have known the purpose for which the beast was used.“The Stapletons then went down to Devonshire, whither they were soon followed by Sir Henry and you.\n",
      "This also you cleared up in a very effective way, though I had already come to the same conclusions from my own observations.“By the time that you discovered me upon the moor I had a complete knowledge of the whole business, but I had not a case which could go to a jury.\n",
      "Even Stapleton’s attempt upon Sir Henry that night which ended in the death of the unfortunate convict did not help us much in proving murder against our man.\n",
      "She had learned something of the death of the convict, and she knew that the hound was being kept in the outhouse on the evening that Sir Henry was coming to dinner.\n",
      "I do not know that anything essential has been left unexplained.”“He could not hope to frighten Sir Henry to death as he had done the old uncle with his bogie hound.”“The beast was savage and half-starved.\n"
     ]
    }
   ],
   "source": [
    "print(summarize(text2, ratio=0.1))"
   ]
  },
  {
   "cell_type": "code",
   "execution_count": 8,
   "metadata": {},
   "outputs": [
    {
     "name": "stdout",
     "output_type": "stream",
     "text": [
      "They had called upon us that very afternoon, so that it was natural that the subject should come up for discussion.“The whole course of events,” said Holmes, “from the point of view of the man who called himself Stapleton was simple and direct, although to us, who had no means in the beginning of knowing the motives of his actions and could only learn part of the facts, it all appeared exceedingly complex.\n",
      "His first act was to establish himself as near to his ancestral home as he could, and his second was to cultivate a friendship with Sir Charles Baskerville and with the neighbours.“The baronet himself told him about the family hound, and so prepared the way for his own death.\n",
      "She would have nothing to do with it, and for a time Stapleton was at a deadlock.“He found a way out of his difficulties through the chance that Sir Charles, who had conceived a friendship for him, made him the minister of his charity in the case of this unfortunate woman, Mrs. Laura Lyons.\n",
      "The hound was called off and hurried away to its lair in the Grimpen Mire, and a mystery was left which puzzled the authorities, alarmed the countryside, and finally brought the case within the scope of our observation.“So much for the death of Sir Charles Baskerville.\n"
     ]
    }
   ],
   "source": [
    "print(summarize(text2, word_count=200))"
   ]
  },
  {
   "cell_type": "code",
   "execution_count": 9,
   "metadata": {},
   "outputs": [
    {
     "name": "stdout",
     "output_type": "stream",
     "text": [
      "stapleton\n",
      "stapletons\n",
      "baskerville\n",
      "sir\n",
      "mrs\n",
      "hound\n",
      "turn\n",
      "considerable\n",
      "considerably\n",
      "exceedingly\n",
      "old\n",
      "cases\n",
      "case\n",
      "man\n",
      "turned away\n",
      "mind\n",
      "complete\n",
      "completing\n",
      "possible\n",
      "possibly\n",
      "dog\n",
      "great\n",
      "unfortunate\n",
      "authority\n",
      "authorities\n",
      "means\n",
      "said\n",
      "master\n",
      "black\n",
      "home\n",
      "country\n",
      "countries\n",
      "blood\n",
      "followed\n",
      "having\n",
      "instantly\n",
      "proved\n",
      "proving\n"
     ]
    }
   ],
   "source": [
    "print(keywords(text2, words=30, lemmatize=False))"
   ]
  },
  {
   "cell_type": "code",
   "execution_count": 10,
   "metadata": {},
   "outputs": [
    {
     "name": "stdout",
     "output_type": "stream",
     "text": [
      "stapletons\n",
      "baskerville\n",
      "sir\n",
      "mrs\n",
      "hound\n",
      "exceedingly\n",
      "considerably\n",
      "old\n",
      "case\n",
      "man\n",
      "turned away\n",
      "mind\n",
      "dog\n",
      "great\n",
      "possibly\n",
      "completing\n",
      "unfortunate\n",
      "black\n",
      "means\n",
      "authorities\n",
      "said\n",
      "home\n",
      "blood\n",
      "countries\n",
      "followed\n",
      "having\n",
      "instantly\n",
      "proving\n"
     ]
    }
   ],
   "source": [
    "print(keywords(text2, words=30, lemmatize=True))"
   ]
  }
 ],
 "metadata": {
  "kernelspec": {
   "display_name": "Python 3",
   "language": "python",
   "name": "python3"
  },
  "language_info": {
   "codemirror_mode": {
    "name": "ipython",
    "version": 3
   },
   "file_extension": ".py",
   "mimetype": "text/x-python",
   "name": "python",
   "nbconvert_exporter": "python",
   "pygments_lexer": "ipython3",
   "version": "3.7.6"
  }
 },
 "nbformat": 4,
 "nbformat_minor": 4
}
